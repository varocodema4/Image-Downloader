{
  "nbformat": 4,
  "nbformat_minor": 0,
  "metadata": {
    "colab": {
      "provenance": [],
      "authorship_tag": "ABX9TyNWeRCpcpxcOV26eIkgELPi",
      "include_colab_link": true
    },
    "kernelspec": {
      "name": "python3",
      "display_name": "Python 3"
    },
    "language_info": {
      "name": "python"
    }
  },
  "cells": [
    {
      "cell_type": "markdown",
      "metadata": {
        "id": "view-in-github",
        "colab_type": "text"
      },
      "source": [
        "<a href=\"https://colab.research.google.com/github/varocodema4/Image-Downloader/blob/main/image_downloader.ipynb\" target=\"_parent\"><img src=\"https://colab.research.google.com/assets/colab-badge.svg\" alt=\"Open In Colab\"/></a>"
      ]
    },
    {
      "cell_type": "code",
      "source": [
        "from google.colab import drive\n",
        "drive.mount('/content/drive')"
      ],
      "metadata": {
        "colab": {
          "base_uri": "https://localhost:8080/"
        },
        "id": "aOSyfDhAgO-5",
        "outputId": "da13321f-7840-4204-eff1-d6f2a49bf478"
      },
      "execution_count": null,
      "outputs": [
        {
          "output_type": "stream",
          "name": "stdout",
          "text": [
            "Drive already mounted at /content/drive; to attempt to forcibly remount, call drive.mount(\"/content/drive\", force_remount=True).\n"
          ]
        }
      ]
    },
    {
      "cell_type": "code",
      "execution_count": null,
      "metadata": {
        "colab": {
          "base_uri": "https://localhost:8080/"
        },
        "id": "76Dgg_YrYbsB",
        "outputId": "2afd27bc-210f-4ed8-b6b3-e51482bd9f2f"
      },
      "outputs": [
        {
          "output_type": "stream",
          "name": "stdout",
          "text": [
            "Drive already mounted at /content/drive; to attempt to forcibly remount, call drive.mount(\"/content/drive\", force_remount=True).\n",
            "The image has been downloaded and saved as '/content/drive/MyDrive/02_mood.jpg'.\n"
          ]
        }
      ],
      "source": [
        "import requests\n",
        "from google.colab import drive\n",
        "\n",
        "def download_image(url, filename):\n",
        "    response = requests.get(url)\n",
        "    if response.status_code == 200:\n",
        "        with open(filename, 'wb') as f:\n",
        "            f.write(response.content)\n",
        "        print(f\"The image has been downloaded and saved as '{filename}'.\")\n",
        "    else:\n",
        "        print(f\"Failed to download the image. Status code: {response.status_code}\")\n",
        "\n",
        "def main():\n",
        "\n",
        "  #Feel free to modify the image_url and image_filename variables as needed for different image URLs and filenames\n",
        "    image_url = \"https://your/url/here\"\n",
        "    image_filename = \"/content/drive/MyDrive/your_photo_name.jpg\"\n",
        "\n",
        "    drive.mount('/content/drive')\n",
        "    download_image(image_url, image_filename)\n",
        "\n",
        "if __name__ == \"__main__\":\n",
        "    main()"
      ]
    },
    {
      "cell_type": "code",
      "source": [],
      "metadata": {
        "id": "LOIcHwsWc5n6"
      },
      "execution_count": null,
      "outputs": []
    }
  ]
}